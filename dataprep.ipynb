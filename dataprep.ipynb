{
 "cells": [
  {
   "cell_type": "markdown",
   "metadata": {},
   "source": [
    "# Data Prep Lab\n",
    "\n",
    "## Problem Statement\n",
    "\n",
    "* Data source - set of random data from [randomuser.me](https://randomuser.me/)\n",
    "* From this data file...\n",
    "    * Which percentage of users are male vs female?\n",
    "    * What are the ages of most users?\n",
    "    * Of the users, how many are in their 20s, 30s, 40s, etc?\n",
    "    * Convert the data to CSV and store it in s3\n",
    "    * Transform gender feature to a binary value - male 1, female 0.\n",
    "\n",
    "\n",
    "## Upload Data to S3"
   ]
  },
  {
   "cell_type": "code",
   "execution_count": null,
   "metadata": {},
   "outputs": [],
   "source": [
    "import boto3"
   ]
  },
  {
   "cell_type": "code",
   "execution_count": null,
   "metadata": {},
   "outputs": [],
   "source": [
    "s3client = boto3.client('s3')"
   ]
  },
  {
   "cell_type": "code",
   "execution_count": null,
   "metadata": {},
   "outputs": [],
   "source": [
    "import os\n",
    "account_no = os.environ['ACCOUNT_NO']"
   ]
  },
  {
   "cell_type": "code",
   "execution_count": null,
   "metadata": {},
   "outputs": [],
   "source": [
    "bucket_name = '3034034dataprep'\n",
    "filename = './userdata.txt'\n",
    "key='raw/userdata.txt'\n",
    "db_name='userdata'\n",
    "crawler_name='userdatacrawler'\n",
    "crawler_role=f'arn:aws:iam::{account_no}:role/service-role/AWSGlueServiceRole-UserDataCrawler'"
   ]
  },
  {
   "cell_type": "code",
   "execution_count": null,
   "metadata": {},
   "outputs": [],
   "source": [
    "# Create an s3 bucket\n",
    "response = s3client.create_bucket(\n",
    "    Bucket=bucket_name\n",
    ")\n",
    "print(response)"
   ]
  },
  {
   "cell_type": "code",
   "execution_count": null,
   "metadata": {},
   "outputs": [],
   "source": [
    "# Copy userdata.txt to the bucket\n",
    "response = s3client.upload_file(\n",
    "    Filename=filename,\n",
    "    Bucket=bucket_name,\n",
    "    Key=key\n",
    ")\n",
    "print(response)"
   ]
  },
  {
   "cell_type": "markdown",
   "metadata": {},
   "source": [
    "## Data Catalog\n",
    "\n",
    "Need to set up a crawler to crawl our bucket"
   ]
  },
  {
   "cell_type": "code",
   "execution_count": null,
   "metadata": {},
   "outputs": [],
   "source": [
    "# Glue doesn't seem to pick up region via AWS_REGION\n",
    "from botocore.config import Config\n",
    "\n",
    "my_config = Config(\n",
    "    region_name = 'us-east-1'\n",
    ")\n",
    "\n",
    "glueClient = boto3.client('glue', config=my_config)"
   ]
  },
  {
   "cell_type": "code",
   "execution_count": null,
   "metadata": {},
   "outputs": [],
   "source": [
    "# Create database\n",
    "response = glueClient.create_database(\n",
    "    DatabaseInput= {\n",
    "        'Name':db_name,\n",
    "        'Description':'user data from randomuser.me'\n",
    "    }\n",
    ")\n",
    "print(response)"
   ]
  },
  {
   "cell_type": "code",
   "execution_count": null,
   "metadata": {},
   "outputs": [],
   "source": [
    "# Shortcut - created crawler manually to create the role using the console, deleted everything, then reused role here.\n",
    "# TODO - create role and policy in this notebook"
   ]
  },
  {
   "cell_type": "code",
   "execution_count": null,
   "metadata": {},
   "outputs": [],
   "source": [
    "f's3://{bucket_name}/raw'"
   ]
  },
  {
   "cell_type": "code",
   "execution_count": null,
   "metadata": {},
   "outputs": [],
   "source": [
    "response = glueClient.create_crawler(\n",
    "    Name=crawler_name,\n",
    "    Role=crawler_role,\n",
    "    DatabaseName=db_name,\n",
    "    Targets={\n",
    "        'S3Targets': [\n",
    "            {\n",
    "                'Path': f's3://{bucket_name}/raw',\n",
    "            },\n",
    "        ]\n",
    "    },\n",
    "    \n",
    ")\n",
    "print(response)"
   ]
  },
  {
   "cell_type": "code",
   "execution_count": null,
   "metadata": {},
   "outputs": [],
   "source": [
    "# run crawler\n",
    "glueClient.start_crawler(\n",
    "    Name=crawler_name\n",
    ")"
   ]
  },
  {
   "cell_type": "code",
   "execution_count": null,
   "metadata": {},
   "outputs": [],
   "source": [
    "glueClient.get_crawler_metrics(\n",
    "    CrawlerNameList=[\n",
    "        crawler_name,\n",
    "    ]\n",
    ")"
   ]
  },
  {
   "cell_type": "code",
   "execution_count": null,
   "metadata": {},
   "outputs": [],
   "source": [
    "glueClient.get_tables(\n",
    "    DatabaseName=db_name\n",
    ")"
   ]
  },
  {
   "cell_type": "markdown",
   "metadata": {},
   "source": [
    "## Athena"
   ]
  },
  {
   "cell_type": "code",
   "execution_count": null,
   "metadata": {},
   "outputs": [],
   "source": [
    "athenaClient = boto3.client('athena',config=my_config)"
   ]
  },
  {
   "cell_type": "code",
   "execution_count": null,
   "metadata": {},
   "outputs": [],
   "source": [
    "table_name = 'raw'\n",
    "athenaClient.start_query_execution(\n",
    "    QueryString='select * from userdata.raw limit 10',\n",
    "    ResultConfiguration={\n",
    "        'OutputLocation':f's3://{bucket_name}/raw/q1'\n",
    "    }\n",
    "    \n",
    ")"
   ]
  },
  {
   "cell_type": "code",
   "execution_count": null,
   "metadata": {},
   "outputs": [],
   "source": [
    "s3 = boto3.resource('s3')\n",
    "bucket = s3.Bucket(bucket_name)\n",
    "for obj in bucket.objects.all():\n",
    "    print(obj.key)"
   ]
  },
  {
   "cell_type": "code",
   "execution_count": null,
   "metadata": {},
   "outputs": [],
   "source": [
    "s3obj = s3.Object(bucket_name,'raw/q1/2182182b-8470-458e-8e0a-a755c5bef556.csv')"
   ]
  },
  {
   "cell_type": "code",
   "execution_count": null,
   "metadata": {},
   "outputs": [],
   "source": [
    "body = s3obj.get()['Body'].read()\n"
   ]
  },
  {
   "cell_type": "code",
   "execution_count": null,
   "metadata": {},
   "outputs": [],
   "source": [
    "body"
   ]
  },
  {
   "cell_type": "markdown",
   "metadata": {},
   "source": [
    "### Other Queries\n",
    "\n",
    "#### Gender Percentages\n",
    "\n",
    "```\n",
    "SELECT gender, (COUNT(gender) * 100.0 / (SELECT COUNT(*) FROM raw)) AS percent\n",
    "FROM raw\n",
    "GROUP BY gender;\n",
    "```\n",
    "\n",
    "#### Most Common Ages\n",
    "\n",
    "```\n",
    "SELECT age, COUNT(age) AS occurances \n",
    "FROM raw\n",
    "GROUP BY age\n",
    "ORDER BY occurances DESC\n",
    "LIMIT 5;\n",
    "```\n",
    "\n",
    "#### Age Groupings\n",
    "\n",
    "```\n",
    "SELECT SUM(CASE WHEN age BETWEEN 21 AND 29 THEN 1 ELSE 0 END) AS \"21-29\",\n",
    "        SUM(CASE WHEN age BETWEEN 30 AND 39 THEN 1 ELSE 0 END) AS \"30-39\",\n",
    "        SUM(CASE WHEN age BETWEEN 40 AND 49 THEN 1 ELSE 0 END) AS \"40-49\",\n",
    "        SUM(CASE WHEN age BETWEEN 50 AND 59 THEN 1 ELSE 0 END) AS \"50-59\",\n",
    "        SUM(CASE WHEN age BETWEEN 60 AND 69 THEN 1 ELSE 0 END) AS \"60-69\",\n",
    "        SUM(CASE WHEN age BETWEEN 70 AND 79 THEN 1 ELSE 0 END) AS \"70-79\"\n",
    " FROM raw;\n",
    "```\n",
    "\n"
   ]
  },
  {
   "cell_type": "markdown",
   "metadata": {},
   "source": [
    "## Cleanup"
   ]
  },
  {
   "cell_type": "code",
   "execution_count": null,
   "metadata": {},
   "outputs": [],
   "source": [
    "# Delete crawler\n",
    "glueClient.delete_crawler(\n",
    "    Name=crawler_name\n",
    ")"
   ]
  },
  {
   "cell_type": "code",
   "execution_count": null,
   "metadata": {},
   "outputs": [],
   "source": [
    "# Delete database\n",
    "glueClient.delete_database(\n",
    "    Name=db_name\n",
    ")"
   ]
  },
  {
   "cell_type": "code",
   "execution_count": null,
   "metadata": {},
   "outputs": [],
   "source": [
    "response = s3client.delete_object(\n",
    "    Bucket=bucket_name,\n",
    "    Key=key\n",
    ")\n",
    "print(response)"
   ]
  },
  {
   "cell_type": "code",
   "execution_count": null,
   "metadata": {},
   "outputs": [],
   "source": [
    "bucket = s3.Bucket(bucket_name)\n",
    "for obj in bucket.objects.all():\n",
    "    print(obj.key)\n",
    "    obj.delete()"
   ]
  },
  {
   "cell_type": "code",
   "execution_count": null,
   "metadata": {},
   "outputs": [],
   "source": [
    "response = s3client.delete_bucket(\n",
    "    Bucket=bucket_name\n",
    ")\n",
    "print(response)"
   ]
  },
  {
   "cell_type": "code",
   "execution_count": null,
   "metadata": {},
   "outputs": [],
   "source": []
  }
 ],
 "metadata": {
  "kernelspec": {
   "display_name": "Python 3",
   "language": "python",
   "name": "python3"
  },
  "language_info": {
   "codemirror_mode": {
    "name": "ipython",
    "version": 3
   },
   "file_extension": ".py",
   "mimetype": "text/x-python",
   "name": "python",
   "nbconvert_exporter": "python",
   "pygments_lexer": "ipython3",
   "version": "3.7.7"
  }
 },
 "nbformat": 4,
 "nbformat_minor": 4
}
